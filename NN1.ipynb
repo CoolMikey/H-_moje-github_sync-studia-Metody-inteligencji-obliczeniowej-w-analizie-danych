{
 "cells": [
  {
   "cell_type": "code",
   "execution_count": 2,
   "metadata": {},
   "outputs": [],
   "source": [
    "import numpy as np"
   ]
  },
  {
   "cell_type": "code",
   "execution_count": 1,
   "metadata": {},
   "outputs": [],
   "source": [
    "def linear(x):\n",
    "    return  x"
   ]
  },
  {
   "cell_type": "code",
   "execution_count": 5,
   "metadata": {},
   "outputs": [],
   "source": [
    "def sigmoidal(x):\n",
    "    return 1/(1 + np.exp(-x))"
   ]
  },
  {
   "cell_type": "code",
   "execution_count": 6,
   "metadata": {},
   "outputs": [
    {
     "name": "stdout",
     "output_type": "stream",
     "text": [
      "3\n",
      "0.9999546021312976\n"
     ]
    }
   ],
   "source": [
    "print(linear(3))\n",
    "print(sigmoidal(10))"
   ]
  },
  {
   "cell_type": "code",
   "execution_count": 11,
   "metadata": {},
   "outputs": [
    {
     "name": "stdout",
     "output_type": "stream",
     "text": [
      "5\n",
      "10\n",
      "10\n"
     ]
    }
   ],
   "source": [
    "class MLP:\n",
    "    def __init__(self, layers, weights, activation_function):\n",
    "        self.layers = layers\n",
    "        self.weights = weights\n",
    "\n",
    "        if activation_function == \"linear\":\n",
    "            self.hidden_activation_function = linear\n",
    "        elif activation_function == \"sigmoidal\":\n",
    "            self.hidden_activation_function = sigmoidal\n",
    "        else:\n",
    "            print(\"Wrong activation function specified\")\n",
    "            return \n",
    "        \n",
    "        # initialization\n",
    "        for layer in layers:\n",
    "            print(layer)\n",
    "\n",
    "\n",
    "        self.output_activation_function = linear\n",
    "    \n",
    "    # @ - mnożenie macierzy\n",
    "\n",
    "    # def forward(self):\n",
    "\n",
    "\n",
    "input_size = 5\n",
    "\n",
    "NN1 = MLP([input_size,5], [], 'sigmoidal')\n",
    "\n",
    "NN2 = MLP([input_size, 10])\n",
    "\n",
    "NN3 = MLP([input_size, ])\n"
   ]
  },
  {
   "cell_type": "code",
   "execution_count": null,
   "metadata": {},
   "outputs": [],
   "source": []
  }
 ],
 "metadata": {
  "kernelspec": {
   "display_name": "base",
   "language": "python",
   "name": "python3"
  },
  "language_info": {
   "codemirror_mode": {
    "name": "ipython",
    "version": 3
   },
   "file_extension": ".py",
   "mimetype": "text/x-python",
   "name": "python",
   "nbconvert_exporter": "python",
   "pygments_lexer": "ipython3",
   "version": "3.11.5"
  }
 },
 "nbformat": 4,
 "nbformat_minor": 2
}
