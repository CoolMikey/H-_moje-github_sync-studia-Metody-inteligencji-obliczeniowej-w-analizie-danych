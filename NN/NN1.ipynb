{
 "cells": [
  {
   "cell_type": "markdown",
   "metadata": {},
   "source": [
    "# Imports"
   ]
  },
  {
   "cell_type": "code",
   "execution_count": 1,
   "metadata": {},
   "outputs": [],
   "source": [
    "import numpy as np\n",
    "import pandas as pd\n",
    "np.random.seed(20030403)"
   ]
  },
  {
   "cell_type": "code",
   "execution_count": 2,
   "metadata": {},
   "outputs": [],
   "source": [
    "np.random.seed(20030403)"
   ]
  },
  {
   "cell_type": "markdown",
   "metadata": {},
   "source": [
    "# Activator Functions"
   ]
  },
  {
   "cell_type": "code",
   "execution_count": 3,
   "metadata": {},
   "outputs": [
    {
     "name": "stdout",
     "output_type": "stream",
     "text": [
      "3\n",
      "0.5\n"
     ]
    }
   ],
   "source": [
    "def linear(x):\n",
    "    \"\"\" Liniowa funkcja aktywacji \"\"\"\n",
    "    return  x\n",
    "\n",
    "def sigmoidal(x):\n",
    "    \"\"\" sigmoidalna funkcja aktywacji \"\"\"\n",
    "    return 1/(1 + np.exp(-x))\n",
    "\n",
    "print(linear(3))\n",
    "print(sigmoidal(0))"
   ]
  },
  {
   "cell_type": "markdown",
   "metadata": {},
   "source": [
    "Działają jak należy :)"
   ]
  },
  {
   "cell_type": "markdown",
   "metadata": {},
   "source": [
    "# MLP no backprop"
   ]
  },
  {
   "cell_type": "code",
   "execution_count": 4,
   "metadata": {},
   "outputs": [],
   "source": [
    "class MLPNoBackprop:\n",
    "    def __init__(self, layers, weights, \n",
    "                 hidden_activation_function='sigmoid', \n",
    "                 output_activation_function='linear'):\n",
    "        self.layers = layers\n",
    "        self.weights = weights        \n",
    "        self.biases = [np.zeros((n,)) for n in layers[1:]]\n",
    "        activation_functions = {\"linear\": linear, \"sigmoid\": sigmoidal}\n",
    "        \n",
    "        if hidden_activation_function in activation_functions:\n",
    "            self.hidden_activation_function = activation_functions[hidden_activation_function]\n",
    "        else:\n",
    "            raise ValueError(\"Zla funkcja aktywacji, wybierz z:\", activation_functions)\n",
    "        \n",
    "        if output_activation_function in activation_functions:\n",
    "            self.output_activation_function = activation_functions[output_activation_function]\n",
    "        else:\n",
    "            raise ValueError(\"Zla funkcja aktywacji, wybierz z:\", activation_functions)\n",
    "\n",
    "    def forward(self, X):\n",
    "        activation = X\n",
    "        activations = [X]\n",
    "        for i in range(len(self.weights) - 1):\n",
    "            z = activation @ self.weights[i] + self.biases[i]\n",
    "            activation = self.hidden_activation_function(z)\n",
    "            activations.append(activation)\n",
    "        z = activation @ self.weights[-1] + self.biases[-1]\n",
    "        output = self.output_activation_function(z)\n",
    "        activations.append(output)\n",
    "        return activations\n",
    "\n",
    "    def predict(self, X):\n",
    "        return self.forward(X)[-1].flatten()\n",
    "    \n",
    "    def set_weights_and_biases(self, layer_idx, w, b):\n",
    "        self.weights[layer_idx] = w\n",
    "        self.biases[layer_idx] = b\n",
    "    \n",
    "    def mse(self, y_true, y_pred):\n",
    "        return np.mean((y_true - y_pred) ** 2)\n"
   ]
  },
  {
   "cell_type": "markdown",
   "metadata": {},
   "source": [
    "# Szkolenie dla square-simple\n"
   ]
  },
  {
   "cell_type": "markdown",
   "metadata": {},
   "source": [
    "Moja idea szkolenie - losuje wagi i biasy dla kazdej warstwy i porownuje z najlepszym wynikiem do tej pory, jesli lepszy to zamieniam, jesli nie to szukam dalej. "
   ]
  },
  {
   "cell_type": "markdown",
   "metadata": {},
   "source": [
    "## Helper Functions"
   ]
  },
  {
   "cell_type": "code",
   "execution_count": 5,
   "metadata": {},
   "outputs": [],
   "source": [
    "def drop_first_column(df): # przydatne przy wczytywaniu danych\n",
    "    df.drop(df.columns[[0]], axis=1, inplace=True)\n",
    "\n",
    "def random_weights(layers): # aby szybko losowac wagi\n",
    "    return [np.random.randn(layers[i], layers[i+1]) for i in range(len(layers)-1)]\n",
    "\n",
    "def random_biases(layers): # -||- biasy\n",
    "    return [np.random.randn(n) for n in layers[1:]]"
   ]
  },
  {
   "cell_type": "markdown",
   "metadata": {},
   "source": [
    "## Szkolenie - square simple"
   ]
  },
  {
   "cell_type": "code",
   "execution_count": 6,
   "metadata": {},
   "outputs": [],
   "source": [
    "train_data_path = \"../regression/square-simple-training.csv\"\n",
    "test_data_path = \"../regression/square-simple-test.csv\"\n",
    "train_data = pd.read_csv(train_data_path)\n",
    "test_data = pd.read_csv(test_data_path)\n",
    "drop_first_column(train_data) # usuwam pierwsza kolumne, bo tam sa numery wierszy - niepotrzbne\n",
    "drop_first_column(test_data)\n",
    "X_train, y_train = train_data.iloc[:, :-1].values, train_data.iloc[:, -1].values\n",
    "X_test, y_test = test_data.iloc[:, :-1].values, test_data.iloc[:, -1].values"
   ]
  },
  {
   "cell_type": "code",
   "execution_count": 7,
   "metadata": {},
   "outputs": [
    {
     "data": {
      "text/plain": [
       "(100, 2)"
      ]
     },
     "execution_count": 7,
     "metadata": {},
     "output_type": "execute_result"
    }
   ],
   "source": [
    "train_data.shape"
   ]
  },
  {
   "cell_type": "code",
   "execution_count": 8,
   "metadata": {},
   "outputs": [
    {
     "data": {
      "image/png": "[encoded data removed]",
      "text/plain": [
       "<Figure size 800x600 with 1 Axes>"
      ]
     },
     "metadata": {},
     "output_type": "display_data"
    }
   ],
   "source": [
    "plt.figure(figsize=(8, 6))\n",
    "plt.scatter(X_train, y_train, color='blue', label='Dane treningowe')\n",
    "plt.xlabel(\"X_train\")\n",
    "plt.ylabel(\"y_train\")\n",
    "plt.title(\"Wykres danych treningowych\")\n",
    "plt.legend()\n",
    "plt.grid()\n",
    "plt.show()"
   ]
  },
  {
   "cell_type": "markdown",
   "metadata": {},
   "source": [
    "Dane wyglądają poprawnie"
   ]
  },
  {
   "cell_type": "code",
   "execution_count": 9,
   "metadata": {},
   "outputs": [],
   "source": [
    "input_dim = X_train.shape[1]\n",
    "variants = [ # rozpratrze 3 mozliwosci - tak jak w leonie\n",
    "    [input_dim, 5, 1],       \n",
    "    [input_dim, 10, 1],\n",
    "    [input_dim, 5, 5, 1]\n",
    "]"
   ]
  },
  {
   "cell_type": "code",
   "execution_count": 10,
   "metadata": {},
   "outputs": [
    {
     "name": "stdout",
     "output_type": "stream",
     "text": [
      "Najlepszy MSE na zbiorze treningowym: 9665.286486387466\n",
      "MSE na zbiorze testowym: 8164.478826804216\n",
      "Najlepszy MSE na zbiorze treningowym: 9584.837847005827\n",
      "MSE na zbiorze testowym: 8029.021823927161\n",
      "Najlepszy MSE na zbiorze treningowym: 9781.279476434527\n",
      "MSE na zbiorze testowym: 8282.736457377856\n",
      "[np.float64(8164.478826804216), np.float64(8029.021823927161), np.float64(8282.736457377856)]\n"
     ]
    }
   ],
   "source": [
    "num_iterations = 10000\n",
    "\n",
    "\n",
    "best_weights_list = []\n",
    "best_biases_list = []\n",
    "mse_res = []\n",
    "\n",
    "for i in range(len(variants)):\n",
    "    layers = variants[i]\n",
    "    mlp = MLPNoBackprop(layers, random_weights(layers))\n",
    "    best_mse = float('inf')\n",
    "    best_weights = None\n",
    "    best_biases = None\n",
    "\n",
    "    for j in range(num_iterations):\n",
    "        weights = random_weights(layers)\n",
    "        biases = random_biases(layers)\n",
    "        \n",
    "        for m in range(len(weights)):\n",
    "            mlp.set_weights_and_biases(m, weights[m], biases[m])\n",
    "        \n",
    "        y_pred = mlp.predict(X_train)\n",
    "        mse = mlp.mse(y_train, y_pred)\n",
    "        \n",
    "        if mse < best_mse:\n",
    "            best_mse = mse\n",
    "            best_weights = weights\n",
    "            best_biases = biases\n",
    "\n",
    "    for j in range(len(best_weights)):\n",
    "        mlp.set_weights_and_biases(j, best_weights[j], best_biases[j])\n",
    "\n",
    "    y_test_pred = mlp.predict(X_test)\n",
    "    test_mse = mlp.mse(y_test, y_test_pred)\n",
    "\n",
    "    print(\"Najlepszy MSE na zbiorze treningowym:\", best_mse)\n",
    "    print(\"MSE na zbiorze testowym:\", test_mse)\n",
    "    best_weights_list.append(best_weights)\n",
    "    best_biases_list.append(best_biases)\n",
    "    mse_res.append(test_mse)\n",
    "\n",
    "print(mse_res)\n"
   ]
  },
  {
   "cell_type": "markdown",
   "metadata": {},
   "source": [
    "Najlepszy wynik jest dla [1, 10, 1] o wagach:"
   ]
  },
  {
   "cell_type": "code",
   "execution_count": 11,
   "metadata": {},
   "outputs": [
    {
     "data": {
      "text/plain": [
       "[array([[-1.42070099,  0.05823013,  0.83308292, -0.46104966, -1.27358041,\n",
       "         -0.84077081,  0.53027607,  0.17931212, -0.15749933,  1.24781605]]),\n",
       " array([[ 0.32258451],\n",
       "        [-2.0451704 ],\n",
       "        [ 0.04319965],\n",
       "        [-2.96117717],\n",
       "        [-2.05785833],\n",
       "        [-1.68693128],\n",
       "        [-0.34615815],\n",
       "        [-3.11311134],\n",
       "        [-1.02052291],\n",
       "        [-0.87522061]])]"
      ]
     },
     "execution_count": 11,
     "metadata": {},
     "output_type": "execute_result"
    }
   ],
   "source": [
    "best_weights_list[1]"
   ]
  },
  {
   "cell_type": "markdown",
   "metadata": {},
   "source": [
    "i biasach"
   ]
  },
  {
   "cell_type": "code",
   "execution_count": 12,
   "metadata": {},
   "outputs": [
    {
     "data": {
      "text/plain": [
       "[array([ 1.45718805,  0.37886454,  0.0693731 ,  1.81779402, -0.6235552 ,\n",
       "         0.17891967, -0.02668248,  1.10188527,  0.15183457,  2.1756914 ]),\n",
       " array([-0.34275031])]"
      ]
     },
     "execution_count": 12,
     "metadata": {},
     "output_type": "execute_result"
    }
   ],
   "source": [
    "best_biases_list[1]"
   ]
  },
  {
   "cell_type": "markdown",
   "metadata": {},
   "source": [
    "# Szkolenie dla steps large"
   ]
  },
  {
   "cell_type": "code",

   "execution_count": 28,
   "metadata": {},
   "outputs": [],
   "source": [
    "train_data_path = \"../regression/steps-small-training.csv\"\n",
    "test_data_path = \"../regression/steps-small-test.csv\"\n",
    "train_data = pd.read_csv(train_data_path)\n",
    "test_data = pd.read_csv(test_data_path)\n",
    "drop_first_column(train_data) # usuwam pierwsza kolumne, bo tam sa numery wierszy - niepotrzbne\n",
    "drop_first_column(test_data)\n",
    "X_train, y_train = train_data.iloc[:, :-1].values, train_data.iloc[:, -1].values\n",
    "X_test, y_test = test_data.iloc[:, :-1].values, test_data.iloc[:, -1].values"
   ]
  },
  {
   "cell_type": "code",
   "execution_count": 29,
   "metadata": {},
   "outputs": [
    {
     "name": "stdout",
     "output_type": "stream",
     "text": [
      "(50, 1)\n",
      "(50,)\n",
      "(50, 1)\n",
      "(50,)\n"
     ]
    }
   ],
   "source": [
    "print(X_train.shape)\n",
    "print(y_train.shape)\n",
    "print(X_test.shape)\n",
    "print(y_test.shape)"
   ]
  },
  {
   "cell_type": "markdown",
   "metadata": {},
   "source": [
    "Wykres:"
   ]
  },
  {
   "cell_type": "code",
   "execution_count": 15,
   "metadata": {},
   "outputs": [
    {
     "data": {
      "image/png": "[encoded data removed]",
      "text/plain": [
       "<Figure size 800x600 with 1 Axes>"
      ]
     },
     "metadata": {},
     "output_type": "display_data"
    }
   ],
   "source": [
    "plt.figure(figsize=(8, 6))\n",
    "plt.scatter(X_train, y_train, color='blue', label='Dane treningowe')\n",
    "plt.xlabel(\"X_train\")\n",
    "plt.ylabel(\"y_train\")\n",
    "plt.title(\"Wykres danych treningowych\")\n",
    "plt.legend()\n",
    "plt.grid()\n",
    "plt.show()\n"
   ]
  },
  {
   "cell_type": "markdown",
   "metadata": {},
   "source": [
    "Na wykresie widac schody, sprobuje dobrac wagi tak, aby każdemu \"schodkowi\" przypasować neuron"
   ]
  },
  {
   "cell_type": "code",
   "execution_count": 16,
   "metadata": {},
   "outputs": [],
   "source": [
    "layers = [1, 5, 1]  \n",
    "\n",
    "W_hidden = np.array([[40,40,40,40,40]])\n",
    "b_hidden = np.array([ 80, 20 ,  -20,  -60,  -80 ])\n",
    "\n",
    "W_output = np.array([[0.0],\n",
    "                     [80.0],\n",
    "                     [80.0],\n",
    "                     [ 80.0],\n",
    "                     [ 0.0]])\n",
    "b_output = np.array([-80.0])\n",
    "\n",
    "mlp = MLPNoBackprop(\n",
    "    layers=layers, \n",
    "    weights=[W_hidden, W_output],\n",
    "    hidden_activation_function='sigmoid',\n",
    "    output_activation_function='linear'\n",
    ")\n",
    "\n",
    "mlp.set_weights_and_biases(0, W_hidden, b_hidden)\n",
    "mlp.set_weights_and_biases(1, W_output, b_output)\n"
   ]
  },
  {
   "cell_type": "code",
   "execution_count": 17,
   "metadata": {},
   "outputs": [
    {
     "name": "stdout",
     "output_type": "stream",
     "text": [
      "MSE na zbiorze testowym: 7.225500591019597\n"
     ]
    }
   ],
   "source": [
    "y_test_pred = mlp.predict(X_test)\n",
    "test_mse = mlp.mse(y_test, y_test_pred.flatten())\n",
    "\n",
    "print(\"MSE na zbiorze testowym:\", test_mse)"
   ]
  },
  {
   "cell_type": "markdown",
   "metadata": {},
   "source": [
    "MSE mniejsze od 9, zatem ok ;)"
   ]
  },
  {
   "cell_type": "markdown",
   "metadata": {},
   "source": [
    "zobaczmy jak wyglądają na wykresie"
   ]
  },
  {
   "cell_type": "code",
   "execution_count": 18,
   "metadata": {},
   "outputs": [
    {
     "data": {
      "image/png": "[encoded data removed]",

      "text/plain": [
       "<Figure size 800x600 with 1 Axes>"
      ]
     },
     "metadata": {},
     "output_type": "display_data"
    }
   ],
   "source": [
    "plt.figure(figsize=(8, 6))\n",
    "plt.scatter(X_test, y_test_pred, color='blue', label='Dane treningowe')\n",
    "plt.xlabel(\"X_test\")\n",
    "plt.ylabel(\"y_test\")\n",
    "plt.title(\"Wykres danych testowych\")\n",
    "plt.legend()\n",
    "plt.grid()\n",
    "plt.show()\n"
   ]
  },
  {
   "cell_type": "markdown",
   "metadata": {},
   "source": [
    "Wygląda dobrze :)"
   ]
  }
 ],
 "metadata": {
  "kernelspec": {
   "display_name": ".venv",
   "language": "python",
   "name": "python3"
  },
  "language_info": {
   "codemirror_mode": {
    "name": "ipython",
    "version": 3
   },
   "file_extension": ".py",
   "mimetype": "text/x-python",
   "name": "python",
   "nbconvert_exporter": "python",
   "pygments_lexer": "ipython3",
   "version": "3.13.2"
  }
 },
 "nbformat": 4,
 "nbformat_minor": 2
}
